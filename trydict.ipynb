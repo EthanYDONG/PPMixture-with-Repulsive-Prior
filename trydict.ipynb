{
 "cells": [
  {
   "cell_type": "code",
   "execution_count": 5,
   "metadata": {},
   "outputs": [],
   "source": [
    "class dictt():\n",
    "    def __init__(self):\n",
    "        self.model = {'Key':2}\n",
    "        self.bduf = 88\n",
    "    def update(self):\n",
    "        self.model['bct'] = 99\n",
    "    def change(self):\n",
    "        self.model['Key'] = 888\n",
    "\n",
    "    def cut(self):\n",
    "        self.bduf -= 50\n",
    "    def cutplus(self):\n",
    "        self.cut()\n",
    "        self.bduf += 100000"
   ]
  },
  {
   "cell_type": "code",
   "execution_count": 1,
   "metadata": {},
   "outputs": [],
   "source": [
    "a2 = None"
   ]
  },
  {
   "cell_type": "code",
   "execution_count": 3,
   "metadata": {},
   "outputs": [],
   "source": [
    "if a2:\n",
    "    print('111111111111')"
   ]
  },
  {
   "cell_type": "code",
   "execution_count": 6,
   "metadata": {},
   "outputs": [],
   "source": [
    "abc = dictt()"
   ]
  },
  {
   "cell_type": "code",
   "execution_count": 7,
   "metadata": {},
   "outputs": [
    {
     "data": {
      "text/plain": [
       "88"
      ]
     },
     "execution_count": 7,
     "metadata": {},
     "output_type": "execute_result"
    }
   ],
   "source": [
    "abc.bduf"
   ]
  },
  {
   "cell_type": "code",
   "execution_count": 8,
   "metadata": {},
   "outputs": [],
   "source": [
    "abc.cutplus()"
   ]
  },
  {
   "cell_type": "code",
   "execution_count": 9,
   "metadata": {},
   "outputs": [
    {
     "data": {
      "text/plain": [
       "100038"
      ]
     },
     "execution_count": 9,
     "metadata": {},
     "output_type": "execute_result"
    }
   ],
   "source": [
    "abc.bduf"
   ]
  },
  {
   "cell_type": "code",
   "execution_count": 24,
   "metadata": {},
   "outputs": [
    {
     "name": "stdout",
     "output_type": "stream",
     "text": [
      "k Key\n",
      "c 2\n",
      "k bct\n",
      "c 99\n"
     ]
    }
   ],
   "source": [
    "for k,c in abc.model.items():\n",
    "    print('k',k)\n",
    "    print('c',c)"
   ]
  },
  {
   "cell_type": "code",
   "execution_count": 25,
   "metadata": {},
   "outputs": [],
   "source": [
    "abc.change()"
   ]
  },
  {
   "cell_type": "code",
   "execution_count": 27,
   "metadata": {},
   "outputs": [
    {
     "name": "stdout",
     "output_type": "stream",
     "text": [
      "k value Key\n",
      "c value 888\n",
      "k value bct\n",
      "c value 99\n"
     ]
    }
   ],
   "source": [
    "for k,c in abc.model.items():\n",
    "    print('k value',k)\n",
    "    print('c value',c)"
   ]
  },
  {
   "cell_type": "code",
   "execution_count": 2,
   "metadata": {},
   "outputs": [
    {
     "data": {
      "image/png": "[encoded data removed]",
      "text/plain": [
       "<Figure size 432x288 with 1 Axes>"
      ]
     },
     "metadata": {
      "needs_background": "light"
     },
     "output_type": "display_data"
    }
   ],
   "source": [
    "import numpy as np\n",
    "import matplotlib.pyplot as plt\n",
    "\n",
    "# Target distribution (unnormalized)\n",
    "def target_distribution(x):\n",
    "    return np.exp(-0.5 * x**2)  # Example: Normal distribution\n",
    "\n",
    "# Proposal distribution: Normal distribution\n",
    "def proposal_distribution(x, sigma):\n",
    "    return np.random.normal(x, sigma)\n",
    "\n",
    "# Metropolis-Hastings algorithm with exponential transformation\n",
    "def mh_sampling(iterations, sigma, initial_value):\n",
    "    samples = np.zeros(iterations)\n",
    "    current_value = initial_value\n",
    "\n",
    "    for i in range(iterations):\n",
    "        # Propose a new sample\n",
    "        proposed_value = proposal_distribution(current_value, sigma)\n",
    "        \n",
    "        # Apply exponential transformation to ensure non-negativity\n",
    "        proposed_value = np.exp(proposed_value)\n",
    "\n",
    "        # Calculate the acceptance ratio\n",
    "        acceptance_ratio = min(1, target_distribution(proposed_value) / target_distribution(current_value))\n",
    "\n",
    "        # Accept or reject the proposed sample\n",
    "        if np.random.rand() < acceptance_ratio:\n",
    "            current_value = proposed_value\n",
    "\n",
    "        # Save the current sample\n",
    "        samples[i] = current_value\n",
    "\n",
    "    return samples\n",
    "\n",
    "# Example usage:\n",
    "np.random.seed(123)\n",
    "iterations = 100000\n",
    "sigma = 0.1\n",
    "initial_value = np.log(1.0)  # Initial value after inverse exponential transform\n",
    "\n",
    "samples = mh_sampling(iterations, sigma, initial_value)\n",
    "\n",
    "# Plot the samples\n",
    "plt.hist(samples, bins=30, density=True, color='lightblue', alpha=0.7)\n",
    "plt.title('Metropolis-Hastings Sampling with Exponential Transformation')\n",
    "plt.show()\n"
   ]
  },
  {
   "cell_type": "code",
   "execution_count": 3,
   "metadata": {},
   "outputs": [
    {
     "data": {
      "image/png": "[encoded data removed]",
      "text/plain": [
       "<Figure size 432x288 with 1 Axes>"
      ]
     },
     "metadata": {
      "needs_background": "light"
     },
     "output_type": "display_data"
    }
   ],
   "source": [
    "import numpy as np\n",
    "import matplotlib.pyplot as plt\n",
    "\n",
    "# 目标分布 p(x)\n",
    "def target_distribution(x):\n",
    "    # 以简单的正态分布为例\n",
    "    return np.exp(-0.5 * x**2) / np.sqrt(2 * np.pi)\n",
    "\n",
    "# 截断正态分布采样\n",
    "def truncated_normal_sampler(mu, sigma):\n",
    "    y = np.random.normal(mu, sigma)\n",
    "    while y < 0:  # 截断，确保生成的样本非负\n",
    "        y = np.random.normal(mu, sigma)\n",
    "    return y\n",
    "\n",
    "# Metropolis-Hastings 采样\n",
    "def metropolis_hastings(num_samples, initial_x, proposal_sigma):\n",
    "    samples = [initial_x]\n",
    "    current_x = initial_x\n",
    "\n",
    "    for _ in range(num_samples):\n",
    "        # 从提议分布 Q(· | x) 中采样\n",
    "        proposed_x = truncated_normal_sampler(current_x, proposal_sigma)\n",
    "\n",
    "        # 计算接受概率\n",
    "        acceptance_ratio = min(1, target_distribution(proposed_x) / target_distribution(current_x))\n",
    "\n",
    "        # 判断是否接受新样本\n",
    "        if np.random.uniform(0, 1) < acceptance_ratio:\n",
    "            current_x = proposed_x\n",
    "\n",
    "        samples.append(current_x)\n",
    "\n",
    "    return samples\n",
    "\n",
    "# 参数设置\n",
    "num_samples = 1000\n",
    "initial_value = 0.0\n",
    "proposal_stdev = 1.0\n",
    "\n",
    "# 进行 Metropolis-Hastings 采样\n",
    "samples = metropolis_hastings(num_samples, initial_value, proposal_stdev)\n",
    "\n",
    "# 绘制采样结果和目标分布对比\n",
    "x_values = np.linspace(-5, 5, 1000)\n",
    "plt.plot(x_values, target_distribution(x_values), label='Target Distribution')\n",
    "plt.hist(samples, bins=50, density=True, alpha=0.5, label='Samples from MH')\n",
    "plt.legend()\n",
    "plt.show()"
   ]
  },
  {
   "cell_type": "code",
   "execution_count": 4,
   "metadata": {},
   "outputs": [
    {
     "data": {
      "image/png": "[encoded data removed]",
      "text/plain": [
       "<Figure size 432x288 with 1 Axes>"
      ]
     },
     "metadata": {
      "needs_background": "light"
     },
     "output_type": "display_data"
    }
   ],
   "source": [
    "import numpy as np\n",
    "import matplotlib.pyplot as plt\n",
    "from scipy.stats import norm\n",
    "\n",
    "# Target distribution (unnormalized)\n",
    "def target_distribution(x):\n",
    "    return np.exp(-0.5 * x**2)  # Example: Normal distribution\n",
    "\n",
    "# Proposal distribution: Truncated normal distribution\n",
    "def proposal_distribution(x, sigma):\n",
    "    # Truncate the normal distribution at 0 to ensure non-negativity\n",
    "    return max(0, np.random.normal(x, sigma))\n",
    "\n",
    "# Metropolis-Hastings algorithm with truncated normal proposal\n",
    "def mh_sampling(iterations, sigma, initial_value):\n",
    "    samples = np.zeros(iterations)\n",
    "    current_value = initial_value\n",
    "\n",
    "    for i in range(iterations):\n",
    "        # Propose a new sample\n",
    "        proposed_value = proposal_distribution(current_value, sigma)\n",
    "\n",
    "        # Calculate the acceptance ratio\n",
    "        acceptance_ratio = min(1, target_distribution(proposed_value) / target_distribution(current_value))\n",
    "\n",
    "        # Accept or reject the proposed sample\n",
    "        if np.random.rand() < acceptance_ratio:\n",
    "            current_value = proposed_value\n",
    "\n",
    "        # Save the current sample\n",
    "        samples[i] = current_value\n",
    "\n",
    "    return samples\n",
    "\n",
    "# Example usage:\n",
    "np.random.seed(123)\n",
    "iterations = 10000\n",
    "sigma = 0.1\n",
    "initial_value = 1.0\n",
    "\n",
    "samples = mh_sampling(iterations, sigma, initial_value)\n",
    "\n",
    "# Plot the samples\n",
    "plt.hist(samples, bins=30, density=True, color='lightblue', alpha=0.7)\n",
    "plt.title('Metropolis-Hastings Sampling with Truncated Normal Proposal')\n",
    "plt.show()"
   ]
  },
  {
   "cell_type": "code",
   "execution_count": 15,
   "metadata": {},
   "outputs": [
    {
     "data": {
      "image/png": "[encoded data removed]",
      "text/plain": [
       "<Figure size 432x288 with 1 Axes>"
      ]
     },
     "metadata": {
      "needs_background": "light"
     },
     "output_type": "display_data"
    }
   ],
   "source": [
    "import numpy as np\n",
    "import matplotlib.pyplot as plt\n",
    "\n",
    "# Target distribution (unnormalized)\n",
    "def target_distribution(x):\n",
    "    return np.exp(-x)\n",
    "\n",
    "# Proposal distribution: Truncated normal distribution\n",
    "def proposal_distribution(x, sigma):\n",
    "    return max(0, np.random.normal(x, sigma))\n",
    "\n",
    "# Metropolis-Hastings algorithm with truncated normal proposal\n",
    "def mh_sampling(iterations, sigma, initial_value):\n",
    "    samples = np.zeros(iterations)\n",
    "    current_value = initial_value\n",
    "\n",
    "    for i in range(iterations):\n",
    "        # Propose a new sample\n",
    "        proposed_value = proposal_distribution(current_value, sigma)\n",
    "\n",
    "        # Calculate the acceptance ratio\n",
    "        acceptance_ratio = min(1, target_distribution(proposed_value) / target_distribution(current_value))\n",
    "\n",
    "        # Accept or reject the proposed sample\n",
    "        if np.random.rand() < acceptance_ratio:\n",
    "            current_value = proposed_value\n",
    "\n",
    "        # Save the current sample\n",
    "        samples[i] = current_value\n",
    "\n",
    "    return samples\n",
    "\n",
    "# Plot the target distribution (correct density)\n",
    "x = np.linspace(0, 5, 1000)\n",
    "true_density = np.exp(-x)\n",
    "\n",
    "# Example usage:\n",
    "np.random.seed(123)\n",
    "iterations = 10000\n",
    "sigma = 0.1\n",
    "initial_value = 0.4\n",
    "\n",
    "samples = mh_sampling(iterations, sigma, initial_value)\n",
    "\n",
    "# Plot the samples and the true density\n",
    "plt.hist(samples, bins=100, density=True, color='lightblue', alpha=0.7, label='Samples')\n",
    "plt.plot(x, true_density, label='True Density', color='red', linewidth=2)\n",
    "plt.title('Metropolis-Hastings Sampling with Truncated Normal Proposal')\n",
    "plt.legend()\n",
    "plt.show()"
   ]
  },
  {
   "cell_type": "code",
   "execution_count": 9,
   "metadata": {},
   "outputs": [
    {
     "data": {
      "image/png": "[encoded data removed]",
      "text/plain": [
       "<Figure size 432x288 with 1 Axes>"
      ]
     },
     "metadata": {
      "needs_background": "light"
     },
     "output_type": "display_data"
    }
   ],
   "source": [
    "import numpy as np\n",
    "import matplotlib.pyplot as plt\n",
    "\n",
    "# Target distribution (unnormalized): Exponential distribution\n",
    "def target_distribution(x):\n",
    "    if x < 0:\n",
    "        return 0\n",
    "    else:\n",
    "        return np.exp(-x)\n",
    "\n",
    "# Proposal distribution: Normal distribution\n",
    "def proposal_distribution(x, sigma):\n",
    "    return np.random.normal(x, sigma)\n",
    "\n",
    "# Metropolis-Hastings algorithm with exponential transform\n",
    "def mh_sampling(iterations, sigma, initial_value):\n",
    "    samples = np.zeros(iterations)\n",
    "    current_value = initial_value\n",
    "\n",
    "    for i in range(iterations):\n",
    "        # Propose a new sample\n",
    "        proposed_value = np.exp(proposal_distribution(current_value, sigma))\n",
    "        # if proposed_value < 0:\n",
    "        #     print(proposed_value)\n",
    "\n",
    "        # Calculate the acceptance ratio\n",
    "        acceptance_ratio = min(1, target_distribution(proposed_value) / target_distribution(current_value))\n",
    "\n",
    "        # Accept or reject the proposed sample\n",
    "        if np.random.rand() < acceptance_ratio:\n",
    "            current_value = proposed_value\n",
    "\n",
    "        # Save the current sample\n",
    "        samples[i] = current_value\n",
    "\n",
    "    return samples\n",
    "\n",
    "# Plot the target distribution (correct density)\n",
    "x = np.linspace(0, 5, 1000)\n",
    "true_density = np.exp(-x)\n",
    "\n",
    "# Example usage:\n",
    "np.random.seed(123)\n",
    "iterations = 10000\n",
    "sigma = 0.1\n",
    "initial_value = 1.0\n",
    "\n",
    "samples = mh_sampling(iterations, sigma, initial_value)\n",
    "\n",
    "# Plot the samples and the true density\n",
    "plt.hist(samples, bins=100, density=True, color='lightblue', alpha=0.7, label='Samples')\n",
    "plt.plot(x, true_density, label='True Density', color='red', linewidth=2)\n",
    "plt.title('Metropolis-Hastings Sampling with Exponential Target Distribution')\n",
    "plt.legend()\n",
    "plt.show()"
   ]
  }
 ],
 "metadata": {
  "kernelspec": {
   "display_name": "base",
   "language": "python",
   "name": "python3"
  },
  "language_info": {
   "codemirror_mode": {
    "name": "ipython",
    "version": 3
   },
   "file_extension": ".py",
   "mimetype": "text/x-python",
   "name": "python",
   "nbconvert_exporter": "python",
   "pygments_lexer": "ipython3",
   "version": "3.7.6"
  }
 },
 "nbformat": 4,
 "nbformat_minor": 2
}
